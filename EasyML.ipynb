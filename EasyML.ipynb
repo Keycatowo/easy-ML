{
 "cells": [
  {
   "cell_type": "code",
   "execution_count": 1,
   "metadata": {
    "ExecuteTime": {
     "end_time": "2020-06-04T06:35:03.239190Z",
     "start_time": "2020-06-04T06:35:00.290686Z"
    }
   },
   "outputs": [
    {
     "name": "stderr",
     "output_type": "stream",
     "text": [
      "/home/owo/miniconda3/lib/python3.6/site-packages/sklearn/externals/joblib/__init__.py:15: FutureWarning: sklearn.externals.joblib is deprecated in 0.21 and will be removed in 0.23. Please import this functionality directly from joblib, which can be installed with: pip install joblib. If this warning is raised when loading pickled models, you may need to re-serialize those models with scikit-learn 0.21+.\n",
      "  warnings.warn(msg, category=FutureWarning)\n",
      "Using TensorFlow backend.\n",
      "/home/owo/miniconda3/lib/python3.6/site-packages/tensorflow/python/framework/dtypes.py:526: FutureWarning: Passing (type, 1) or '1type' as a synonym of type is deprecated; in a future version of numpy, it will be understood as (type, (1,)) / '(1,)type'.\n",
      "  _np_qint8 = np.dtype([(\"qint8\", np.int8, 1)])\n",
      "/home/owo/miniconda3/lib/python3.6/site-packages/tensorflow/python/framework/dtypes.py:527: FutureWarning: Passing (type, 1) or '1type' as a synonym of type is deprecated; in a future version of numpy, it will be understood as (type, (1,)) / '(1,)type'.\n",
      "  _np_quint8 = np.dtype([(\"quint8\", np.uint8, 1)])\n",
      "/home/owo/miniconda3/lib/python3.6/site-packages/tensorflow/python/framework/dtypes.py:528: FutureWarning: Passing (type, 1) or '1type' as a synonym of type is deprecated; in a future version of numpy, it will be understood as (type, (1,)) / '(1,)type'.\n",
      "  _np_qint16 = np.dtype([(\"qint16\", np.int16, 1)])\n",
      "/home/owo/miniconda3/lib/python3.6/site-packages/tensorflow/python/framework/dtypes.py:529: FutureWarning: Passing (type, 1) or '1type' as a synonym of type is deprecated; in a future version of numpy, it will be understood as (type, (1,)) / '(1,)type'.\n",
      "  _np_quint16 = np.dtype([(\"quint16\", np.uint16, 1)])\n",
      "/home/owo/miniconda3/lib/python3.6/site-packages/tensorflow/python/framework/dtypes.py:530: FutureWarning: Passing (type, 1) or '1type' as a synonym of type is deprecated; in a future version of numpy, it will be understood as (type, (1,)) / '(1,)type'.\n",
      "  _np_qint32 = np.dtype([(\"qint32\", np.int32, 1)])\n",
      "/home/owo/miniconda3/lib/python3.6/site-packages/tensorflow/python/framework/dtypes.py:535: FutureWarning: Passing (type, 1) or '1type' as a synonym of type is deprecated; in a future version of numpy, it will be understood as (type, (1,)) / '(1,)type'.\n",
      "  np_resource = np.dtype([(\"resource\", np.ubyte, 1)])\n"
     ]
    }
   ],
   "source": [
    "import pandas as pd\n",
    "import numpy as np\n",
    "pd.options.mode.chained_assignment = None # 加快dataframe速度\n",
    "from sklearn.model_selection import train_test_split# 分割資料\n",
    "import logging\n",
    "from sklearn.externals import joblib #模型儲存\n",
    "\n",
    "from sklearn import tree # 決策樹\n",
    "from sklearn.ensemble import RandomForestClassifier # 隨機森林\n",
    "from xgboost import XGBClassifier # XGB 分類器\n",
    "\n",
    "from collections import Counter #計數器\n",
    "from sklearn.metrics import confusion_matrix #混淆矩陣\n",
    "import matplotlib.pyplot as plt #繪圖\n",
    "\n",
    "\n",
    "from keras.utils import np_utils # 轉onehot\n",
    "# DNN by keras\n",
    "import keras.models \n",
    "from keras.models import Sequential\n",
    "from keras.layers.core import Dense,Activation\n",
    "from keras.optimizers import Adam\n",
    "from sklearn import preprocessing"
   ]
  },
  {
   "cell_type": "code",
   "execution_count": 2,
   "metadata": {
    "ExecuteTime": {
     "end_time": "2020-06-04T06:35:03.269122Z",
     "start_time": "2020-06-04T06:35:03.257665Z"
    }
   },
   "outputs": [],
   "source": [
    "import matplotlib.pyplot as plt\n",
    "from sklearn.metrics import roc_curve\n",
    "from sklearn.metrics import auc\n",
    "import numpy as np\n",
    "\n",
    "def roc_plot(test, predict,title=None):\n",
    "    fpr, tpr, thresholds = roc_curve(test, predict)\n",
    "    roc_auc = auc(fpr, tpr)\n",
    "#     plt.plot(fpr,tpr,lw=2,label='ROC curve (area = %0.3f)' % roc_auc)\n",
    "    plt.plot(fpr,tpr,lw=2,)\n",
    "    plt.plot([0,1],[0,1], lw=2, linestyle=':')\n",
    "    plt.axis([0, 1, 0, 1])\n",
    "#     plt.legend()\n",
    "    plt.ylabel('TPR')\n",
    "    plt.xlabel('FPR')\n",
    "    if title == None:\n",
    "        plt.title('ROC curve AP={0:0.3f}'.format(roc_auc))\n",
    "    else:\n",
    "        plt.title(title +' :ROC curve AP={0:0.3f}'.format(roc_auc))\n",
    "    plt.show()"
   ]
  },
  {
   "cell_type": "code",
   "execution_count": 3,
   "metadata": {
    "ExecuteTime": {
     "end_time": "2020-06-04T06:35:03.300141Z",
     "start_time": "2020-06-04T06:35:03.288910Z"
    }
   },
   "outputs": [],
   "source": [
    "from sklearn.metrics import average_precision_score\n",
    "from sklearn.metrics import precision_recall_curve\n",
    "from sklearn.metrics import plot_precision_recall_curve\n",
    "import matplotlib.pyplot as plt\n",
    "from sklearn.preprocessing import LabelEncoder\n",
    "\n",
    "\n",
    "def prc_plot(classifier,x_test,y_test,title = None):\n",
    "    labelencoder = LabelEncoder()\n",
    "    y_predict = classifier.predict(x_test)\n",
    "    average_precision = average_precision_score(\n",
    "        labelencoder.fit_transform(y_test), \n",
    "        labelencoder.fit_transform(y_predict)\n",
    "    )\n",
    "    print('Average precision-recall score: {0:0.3f}'.format(\n",
    "          average_precision))\n",
    "    disp = plot_precision_recall_curve(classifier, x_test, y_test)\n",
    "    plt.axis([0, 1.05, 0, 1.05])\n",
    "    if title is None:\n",
    "        disp.ax_.set_title('%s:Precision-Recall curve: '\n",
    "                       'AP={0:0.3f}'.format(average_precision))\n",
    "    else:\n",
    "        disp.ax_.set_title('%s:Precision-Recall curve: '\n",
    "                       'AP={0:0.3f}'.format(average_precision) % title)"
   ]
  },
  {
   "cell_type": "code",
   "execution_count": 4,
   "metadata": {
    "ExecuteTime": {
     "end_time": "2020-06-04T06:35:03.330658Z",
     "start_time": "2020-06-04T06:35:03.321281Z"
    }
   },
   "outputs": [],
   "source": [
    "def build_dnn(layers = None):\n",
    "    model = Sequential()\n",
    "    model.add(Dense(input_dim=layers[0],units=layers[1]))\n",
    "    model.add(Activation('relu'))\n",
    "    for i in range(2,len(layers)-1):\n",
    "        model.add(Dense(units=layers[i]))\n",
    "        model.add(Activation('relu'))\n",
    "    \n",
    "    model.add(Dense(units=layers[-1]))\n",
    "    model.add(Activation('softmax'))\n",
    "    model.compile(loss='categorical_crossentropy',\n",
    "             optimizer='adam',\n",
    "             metrics=['accuracy'])\n",
    "    return model"
   ]
  },
  {
   "cell_type": "code",
   "execution_count": 5,
   "metadata": {
    "ExecuteTime": {
     "end_time": "2020-06-04T06:35:03.364899Z",
     "start_time": "2020-06-04T06:35:03.354643Z"
    }
   },
   "outputs": [],
   "source": [
    "# import matplotlib.pyplot as plt\n",
    "# from sklearn.metrics import confusion_matrix\n",
    "# import numpy as np\n",
    "\n",
    "def cm_plot(original_label, predict_label,title=None):\n",
    "    cm = confusion_matrix(original_label, predict_label)   # 由原标签和预测标签生成混淆矩阵\n",
    "    plt.figure()\n",
    "    \n",
    "    plt.imshow(cm,cmap=plt.cm.get_cmap('gray', 1))\n",
    "#     plt.matshow(cm, cmap=plt.cm.Blues)     # 画混淆矩阵，配色风格使用cm.Blues\n",
    "#     plt.colorbar()    # 颜色标签\n",
    "    for x in range(len(cm)):\n",
    "        for y in range(len(cm)):\n",
    "            plt.annotate(cm[y, x], xy=(x, y), horizontalalignment='center', verticalalignment='center')\n",
    "            # annotate主要在图形中添加注释1\n",
    "            # 第一个参数添加注释\n",
    "            # 第二个参数是注释的内容\n",
    "            # xy设置箭头尖的坐标\n",
    "            # horizontalalignment水平对齐\n",
    "            # verticalalignment垂直对齐\n",
    "            # 其余常用参数如下：\n",
    "            # xytext设置注释内容显示的起始位置\n",
    "            # arrowprops 用来设置箭头\n",
    "            # facecolor 设置箭头的颜色\n",
    "            # headlength 箭头的头的长度\n",
    "            # headwidth 箭头的宽度\n",
    "            # width 箭身的宽度\n",
    "    ax = plt.gca()\n",
    "#     ax.axes.xaxis.set_visible(False)\n",
    "#     ax.axes.yaxis.set_visible(False)\n",
    "    plt.ylabel('True label')  # 坐标轴标签\n",
    "    plt.xlabel('Predicted label')  # 坐标轴标签\n",
    "    if title == None:\n",
    "        plt.title('confusion matrix')\n",
    "    else:\n",
    "        plt.title(title)"
   ]
  },
  {
   "cell_type": "code",
   "execution_count": 10,
   "metadata": {
    "ExecuteTime": {
     "end_time": "2020-06-04T06:48:42.666559Z",
     "start_time": "2020-06-04T06:48:42.615096Z"
    }
   },
   "outputs": [],
   "source": [
    "class esml:\n",
    "    \"\"\"\n",
    "    esml - easy model : 目的在於快速簡單對資料做初步分析和比較結果\n",
    "        內含模型：\n",
    "            L sklearn tree\n",
    "            L sklearn random forest\n",
    "            L sklearn XGBoost\n",
    "            L keras DNN\n",
    "        內含結果分析：\n",
    "            L 準確率\n",
    "            L 混淆矩陣\n",
    "            L ROC 曲線\n",
    "            L PRC 曲線\n",
    "            L 訓練曲線(DNN)\n",
    "            L 重要特徵(XGB)\n",
    "    version : beta 1.0\n",
    "    \n",
    "    \n",
    "    \"\"\"\n",
    "    \n",
    "    # 初始化，建立好sklearn的三種模型\n",
    "    def __init__(self):\n",
    "        self.dtc = tree.DecisionTreeClassifier()\n",
    "        self.rfc = RandomForestClassifier()\n",
    "        self.xgbc = XGBClassifier()\n",
    "        self.acc = {}\n",
    "        self.cm = {}\n",
    "    \n",
    "    # 重載[]讀取符號\n",
    "    def __getitem__(self,index):\n",
    "        return self.df[index]\n",
    "    \n",
    "    # 讀取資料\n",
    "    def read_file(self,filename = None, remove_title = False):\n",
    "        file_type = filename.split(\".\")[-1]\n",
    "        if file_type == \"csv\":\n",
    "            self.df = pd.read_csv(filename)\n",
    "        elif file_type == \"xlsx\":\n",
    "            self.df = pd.read_excel(filename)\n",
    "        if remove_title is True:\n",
    "            self.df.drop([0],inplace=True)\n",
    "        print(\"Read file with:%s\\n\" %filename)\n",
    "    \n",
    "    # 選擇要用的feature和label\n",
    "    def load_data(self,features=None,label = \"Result\",drop_select=None):\n",
    "        # 沒給features的時候預設除了label以外的其他所有\n",
    "        if features == None:\n",
    "            features = list(self.df.columns)\n",
    "            features.remove(label)\n",
    "            \n",
    "        # 檢查feature存在\n",
    "        for item in features:\n",
    "            if item not in self.df.columns:\n",
    "                print(\"Error: \\\"%s\\\" is not in columns name\" % str(item))\n",
    "                return\n",
    "        # 檢查label存在\n",
    "        if label not in self.df.columns:\n",
    "            print(\"Error: \\\"%s\\\" is not in columns name\" % str(label))\n",
    "            return\n",
    "        # 檢查是否需要篩選\n",
    "        if drop_select is not None:\n",
    "            if type(drop_select) is list:\n",
    "                for drop_type in drop_select:\n",
    "                    self.df = self.df[self.df[label] != drop_type]\n",
    "            else:\n",
    "                self.df = self.df[self.df[label] != drop_select]\n",
    "        \n",
    "        self.X = self.df[features]\n",
    "        self.Y = self.df[label]\n",
    "        print(\"The features is %s\" % str(features))\n",
    "        print(\"The label is [%s]\" % str(label))\n",
    "        print()\n",
    "    \n",
    "    \n",
    "    # 切分資料\n",
    "    def split(self,split_rate = 0.25,random_state=0):\n",
    "        # split train/test\n",
    "        self.X_train, self.X_test, self.Y_train, self.Y_test = train_test_split(\n",
    "            self.X, self.Y, test_size=split_rate, random_state=random_state)\n",
    "        print(\"train:test = %d : %d\" % (int((1-split_rate)*100), int(split_rate*100)))\n",
    "        print(\"test includes:\")\n",
    "        print(Counter(self.Y_test))\n",
    "        print()\n",
    "        \n",
    "    # 訓練model\n",
    "    def fit(self,\n",
    "            tree = True,\n",
    "            random_forest = True, \n",
    "            xgboost = True):\n",
    "        \n",
    "        # fit decicion tree\n",
    "        if tree is True:\n",
    "            self.dtc.fit(self.X_train, self.Y_train)\n",
    "            print(\"fit decision tree\")\n",
    "            self.acc[\"dtc\"] = self.dtc.score(self.X_test, self.Y_test)\n",
    "            self.cm[\"dtc\"] = confusion_matrix(self.Y_test,\n",
    "                                             self.dtc.predict(self.X_test))\n",
    "        \n",
    "        # fit random forest\n",
    "        if random_forest is True:\n",
    "            self.rfc.fit(self.X_train, self.Y_train)\n",
    "            print(\"fit random forest\")\n",
    "            self.acc[\"rfc\"] = self.rfc.score(self.X_test, self.Y_test)\n",
    "            self.cm[\"rfc\"] = confusion_matrix(self.Y_test,\n",
    "                                             self.rfc.predict(self.X_test))\n",
    "            \n",
    "        # fit XGBoost\n",
    "        if xgboost is True:\n",
    "            self.xgbc.fit(self.X_train, self.Y_train)\n",
    "            print(\"fit xgboost\")\n",
    "            self.acc[\"xgbc\"] = self.xgbc.score(self.X_test, self.Y_test)\n",
    "            self.cm[\"xgbc\"] = confusion_matrix(self.Y_test,\n",
    "                                             self.xgbc.predict(self.X_test))\n",
    "            \n",
    "    # 顯示模型狀態\n",
    "    def show_model(self,\n",
    "                tree = True,\n",
    "                random_forest = True, \n",
    "                xgboost = True):\n",
    "        \n",
    "        # show decicion tree\n",
    "        if tree is True:\n",
    "            print(self.dtc)\n",
    "        \n",
    "        # show random forest\n",
    "        if random_forest is True:\n",
    "            print(self.rfc)\n",
    "            \n",
    "        # fit XGBoost\n",
    "        if xgboost is True:\n",
    "            print(self.rfc)\n",
    "        \n",
    "    # 顯示準確率\n",
    "    def accuracy(self,\n",
    "                tree = True,\n",
    "                random_forest = True, \n",
    "                xgboost = True):\n",
    "        print(\"\\nAccuracy:\")\n",
    "        \n",
    "        # show decicion tree\n",
    "        if tree is True:\n",
    "            print(\"\\tDecision Tree is %.3f\" % self.acc[\"dtc\"])\n",
    "            \n",
    "        \n",
    "        # show random forest\n",
    "        if random_forest is True:\n",
    "            print(\"\\tRandom Forest is %.3f\" % self.acc[\"rfc\"])\n",
    "            \n",
    "        # fit XGBoost\n",
    "        if xgboost is True:\n",
    "            print(\"\\tXGBoost is %.3f\" % self.acc[\"xgbc\"])\n",
    "        \n",
    "        print()\n",
    "        \n",
    "#     def count(self):\n",
    "        \n",
    "    # roc curve\n",
    "    def roc(self,\n",
    "            tree = True,\n",
    "            random_forest = True, \n",
    "            xgboost = True):\n",
    "        \n",
    "        # 檢查是否為二分類\n",
    "        if len(set(self.Y_train)) != 2:\n",
    "            print(\"ROC曲線只支援二分類\")\n",
    "            return\n",
    "    \n",
    "        # show decicion tree\n",
    "        if tree is True:\n",
    "            roc_plot(self.dtc.predict(self.X_test), self.Y_test,\"Decision Tree\")\n",
    "        \n",
    "        # show random forest\n",
    "        if random_forest is True:\n",
    "            roc_plot(self.rfc.predict(self.X_test), self.Y_test,\"Random Forest\")\n",
    "            \n",
    "        # fit XGBoost\n",
    "        if xgboost is True:\n",
    "            roc_plot(self.xgbc.predict(self.X_test), self.Y_test,\"XGboost\")\n",
    "            \n",
    "    # PRC curve\n",
    "    def prc(self,\n",
    "            tree = True,\n",
    "            random_forest = True, \n",
    "            xgboost = True):\n",
    "        \n",
    "        # 檢查是否為二分類\n",
    "        if len(set(self.Y_train)) != 2:\n",
    "            print(\"PRC曲線只支援二分類\")\n",
    "            return\n",
    "        \n",
    "        # show decicion tree\n",
    "        if tree is True:\n",
    "            prc_plot(self.dtc, self.X_test, self.Y_test, \"Decision Tree\")\n",
    "        \n",
    "        # show random forest\n",
    "        if random_forest is True:\n",
    "            prc_plot(self.rfc, self.X_test, self.Y_test, \"Random Forest\")\n",
    "            \n",
    "        # fit XGBoost\n",
    "        if xgboost is True:\n",
    "            prc_plot(self.xgbc, self.X_test, self.Y_test, \"XGboost\")\n",
    "    \n",
    "    \n",
    "    \n",
    "    def confusion_matrix(self,\n",
    "            tree = True,\n",
    "            random_forest = True, \n",
    "            xgboost = True):\n",
    "        \n",
    "        # show decicion tree\n",
    "        if tree is True:\n",
    "            cm_plot(self.Y_test, predict_label=self.dtc.predict(self.X_test), title=\"Decision Tree\")\n",
    "        \n",
    "        # show random forest\n",
    "        if random_forest is True:\n",
    "            cm_plot(self.Y_test, predict_label=self.rfc.predict(self.X_test), title=\"Random Forest\")\n",
    "            \n",
    "        # fit XGBoost\n",
    "        if xgboost is True:\n",
    "            cm_plot(self.Y_test, predict_label=self.xgbc.predict(self.X_test), title=\"XGboost\")\n",
    "        \n",
    "    \n",
    "    \n",
    "    # 顯示結果 \n",
    "    def show_result(self,\n",
    "            acc = True,\n",
    "            F1 = False,\n",
    "            cm = False,\n",
    "            ROC = False,\n",
    "            recall = False\n",
    "            ):\n",
    "        print(\"Show result:\\n\")\n",
    "        \n",
    "        \n",
    "        accuracy()\n",
    "        roc()\n",
    "        prc()\n",
    "        \n",
    "        "
   ]
  },
  {
   "cell_type": "code",
   "execution_count": 7,
   "metadata": {
    "ExecuteTime": {
     "end_time": "2020-06-04T06:35:05.217684Z",
     "start_time": "2020-06-04T06:35:03.878139Z"
    },
    "scrolled": false
   },
   "outputs": [
    {
     "name": "stdout",
     "output_type": "stream",
     "text": [
      "測試：\n",
      "Read file with:./data/wine_data.csv\n",
      "\n",
      "The features is ['Alcohol', 'Malic_acid', 'Ash', 'Alcalinity_of_ash', 'Magnesium', 'Total_phenols', 'Flavanoids', 'Nonflavanoid_phenols', 'Proanthocyanins', 'Color_intensity', 'Hue', 'OD280/OD315_of_dilute_wines', 'Proline']\n",
      "The label is [Class]\n",
      "\n",
      "train:test = 75 : 25\n",
      "test includes:\n",
      "Counter({2: 19, 1: 14})\n",
      "\n",
      "fit decision tree\n",
      "fit random forest\n",
      "fit xgboost\n",
      "\n",
      "Accuracy:\n",
      "\tDecision Tree is 1.000\n",
      "\tRandom Forest is 1.000\n",
      "\tXGBoost is 1.000\n",
      "\n",
      "Average precision-recall score: 1.000\n",
      "Average precision-recall score: 1.000\n",
      "Average precision-recall score: 1.000\n"
     ]
    },
    {
     "data": {
      "image/png": "[encoded data removed]",
      "text/plain": [
       "<Figure size 432x288 with 1 Axes>"
      ]
     },
     "metadata": {
      "needs_background": "light"
     },
     "output_type": "display_data"
    },
    {
     "data": {
      "image/png": "[encoded data removed]",
      "text/plain": [
       "<Figure size 432x288 with 1 Axes>"
      ]
     },
     "metadata": {
      "needs_background": "light"
     },
     "output_type": "display_data"
    },
    {
     "data": {
      "image/png": "[encoded data removed]",
      "text/plain": [
       "<Figure size 432x288 with 1 Axes>"
      ]
     },
     "metadata": {
      "needs_background": "light"
     },
     "output_type": "display_data"
    },
    {
     "data": {
      "image/png": "[encoded data removed]",
      "text/plain": [
       "<Figure size 432x288 with 1 Axes>"
      ]
     },
     "metadata": {
      "needs_background": "light"
     },
     "output_type": "display_data"
    },
    {
     "data": {
      "image/png": "[encoded data removed]",
      "text/plain": [
       "<Figure size 432x288 with 1 Axes>"
      ]
     },
     "metadata": {
      "needs_background": "light"
     },
     "output_type": "display_data"
    },
    {
     "data": {
      "image/png": "[encoded data removed]",
      "text/plain": [
       "<Figure size 432x288 with 1 Axes>"
      ]
     },
     "metadata": {
      "needs_background": "light"
     },
     "output_type": "display_data"
    }
   ],
   "source": [
    "if __name__ == \"__main__\":\n",
    "    print(\"測試：\")\n",
    "    tmp = esml()\n",
    "    tmp.read_file(filename=\"./data/wine_data.csv\",remove_title=True)\n",
    "    tmp.load_data(features = None, label = \"Class\",drop_select=[3])\n",
    "    tmp.split(split_rate = 0.25, random_state = 1)\n",
    "    tmp.fit()\n",
    "    tmp.accuracy()\n",
    "#     tmp.roc()\n",
    "    tmp.prc()\n",
    "    tmp.confusion_matrix()"
   ]
  },
  {
   "cell_type": "code",
   "execution_count": null,
   "metadata": {},
   "outputs": [],
   "source": []
  }
 ],
 "metadata": {
  "hide_input": false,
  "kernelspec": {
   "display_name": "Python 3",
   "language": "python",
   "name": "python3"
  },
  "language_info": {
   "codemirror_mode": {
    "name": "ipython",
    "version": 3
   },
   "file_extension": ".py",
   "mimetype": "text/x-python",
   "name": "python",
   "nbconvert_exporter": "python",
   "pygments_lexer": "ipython3",
   "version": "3.6.8"
  },
  "toc": {
   "base_numbering": 1,
   "nav_menu": {},
   "number_sections": true,
   "sideBar": true,
   "skip_h1_title": false,
   "title_cell": "Table of Contents",
   "title_sidebar": "Contents",
   "toc_cell": false,
   "toc_position": {
    "height": "calc(100% - 180px)",
    "left": "10px",
    "top": "150px",
    "width": "384px"
   },
   "toc_section_display": true,
   "toc_window_display": true
  },
  "varInspector": {
   "cols": {
    "lenName": 16,
    "lenType": 16,
    "lenVar": 40
   },
   "kernels_config": {
    "python": {
     "delete_cmd_postfix": "",
     "delete_cmd_prefix": "del ",
     "library": "var_list.py",
     "varRefreshCmd": "print(var_dic_list())"
    },
    "r": {
     "delete_cmd_postfix": ") ",
     "delete_cmd_prefix": "rm(",
     "library": "var_list.r",
     "varRefreshCmd": "cat(var_dic_list()) "
    }
   },
   "types_to_exclude": [
    "module",
    "function",
    "builtin_function_or_method",
    "instance",
    "_Feature"
   ],
   "window_display": false
  }
 },
 "nbformat": 4,
 "nbformat_minor": 2
}
